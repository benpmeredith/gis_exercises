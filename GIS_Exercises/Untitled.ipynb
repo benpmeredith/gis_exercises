{
 "cells": [
  {
   "cell_type": "code",
   "execution_count": 1,
   "metadata": {},
   "outputs": [
    {
     "name": "stdout",
     "output_type": "stream",
     "text": [
      "Pandas Initiated\n",
      "Numpy Initiated\n",
      "Matplotlib Initiated\n",
      "Seaborn Initiated\n",
      "tqdm Initiated\n",
      "Warnings: Off\n",
      "Random Seed: 42\n",
      "IPython Display Initiated\n",
      "BeautifulSoup Initiated\n",
      "Import csv Initiated\n",
      "Please initiate %matplotlib inline\n"
     ]
    }
   ],
   "source": [
    "%run lib/__init__.py\n",
    "\n",
    "import datetime\n",
    "from astral import Astral\n",
    "from astral import *\n",
    "from astral import GoogleGeocoder"
   ]
  },
  {
   "cell_type": "code",
   "execution_count": 2,
   "metadata": {
    "collapsed": true
   },
   "outputs": [],
   "source": [
    "%matplotlib inline\n",
    "\n",
    "a = Astral()\n",
    "a.geocoder = GoogleGeocoder()"
   ]
  },
  {
   "cell_type": "code",
   "execution_count": 3,
   "metadata": {},
   "outputs": [
    {
     "name": "stdout",
     "output_type": "stream",
     "text": [
      "Information for Seattle/USA\n",
      "\n"
     ]
    }
   ],
   "source": [
    "city_name = 'Seattle'\n",
    "\n",
    "a = Astral()\n",
    "a.solar_depression = 'civil'\n",
    "\n",
    "city = a[city_name]\n",
    "\n",
    "print('Information for %s/%s\\n' % (city_name, city.region))"
   ]
  },
  {
   "cell_type": "code",
   "execution_count": 11,
   "metadata": {},
   "outputs": [
    {
     "data": {
      "text/plain": [
       "21"
      ]
     },
     "execution_count": 11,
     "metadata": {},
     "output_type": "execute_result"
    }
   ],
   "source": [
    "%run lib/moon_phases.py\n",
    "\n",
    "d, s, l = moon_phase(11,3,1961)\n",
    "\n",
    "l"
   ]
  },
  {
   "cell_type": "code",
   "execution_count": null,
   "metadata": {
    "collapsed": true
   },
   "outputs": [],
   "source": []
  }
 ],
 "metadata": {
  "kernelspec": {
   "display_name": "Python 3",
   "language": "python",
   "name": "python3"
  },
  "language_info": {
   "codemirror_mode": {
    "name": "ipython",
    "version": 3
   },
   "file_extension": ".py",
   "mimetype": "text/x-python",
   "name": "python",
   "nbconvert_exporter": "python",
   "pygments_lexer": "ipython3",
   "version": "3.6.3"
  }
 },
 "nbformat": 4,
 "nbformat_minor": 2
}
